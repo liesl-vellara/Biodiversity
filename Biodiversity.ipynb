{
 "cells": [
  {
   "cell_type": "markdown",
   "id": "4af99e5f",
   "metadata": {},
   "source": [
    "# Available Libraries \n",
    "Checking what Libraries are present in this python "
   ]
  },
  {
   "cell_type": "code",
   "execution_count": 2,
   "id": "14fa4a16",
   "metadata": {},
   "outputs": [
    {
     "name": "stdout",
     "output_type": "stream",
     "text": [
      "Package                            Version\n",
      "---------------------------------- -------------------\n",
      "alabaster                          0.7.12\n",
      "anaconda-client                    1.7.2\n",
      "anaconda-navigator                 2.0.3\n",
      "anaconda-project                   0.9.1\n",
      "anyio                              2.2.0\n",
      "appdirs                            1.4.4\n",
      "argh                               0.26.2\n",
      "argon2-cffi                        20.1.0\n",
      "asn1crypto                         1.4.0\n",
      "astroid                            2.5\n",
      "astropy                            4.2.1\n",
      "async-generator                    1.10\n",
      "atomicwrites                       1.4.0\n",
      "attrs                              20.3.0\n",
      "autopep8                           1.5.6\n",
      "Babel                              2.9.0\n",
      "backcall                           0.2.0\n",
      "backports.functools-lru-cache      1.6.4\n",
      "backports.shutil-get-terminal-size 1.0.0\n",
      "backports.tempfile                 1.0\n",
      "backports.weakref                  1.0.post1\n",
      "bcrypt                             3.2.0\n",
      "beautifulsoup4                     4.9.3\n",
      "bitarray                           1.9.2\n",
      "bkcharts                           0.2\n",
      "black                              19.10b0\n",
      "bleach                             3.3.0\n",
      "bokeh                              2.3.2\n",
      "boto                               2.49.0\n",
      "Bottleneck                         1.3.2\n",
      "brotlipy                           0.7.0\n",
      "certifi                            2020.12.5\n",
      "cffi                               1.14.5\n",
      "chardet                            4.0.0\n",
      "click                              7.1.2\n",
      "cloudpickle                        1.6.0\n",
      "clyent                             1.2.2\n",
      "colorama                           0.4.4\n",
      "comtypes                           1.1.9\n",
      "conda                              4.10.1\n",
      "conda-build                        3.21.4\n",
      "conda-content-trust                0+unknown\n",
      "conda-package-handling             1.7.3\n",
      "conda-repo-cli                     1.0.4\n",
      "conda-token                        0.3.0\n",
      "conda-verify                       3.4.2\n",
      "contextlib2                        0.6.0.post1\n",
      "cryptography                       3.4.7\n",
      "cycler                             0.10.0\n",
      "Cython                             0.29.23\n",
      "cytoolz                            0.11.0\n",
      "dask                               2021.4.0\n",
      "decorator                          5.0.6\n",
      "defusedxml                         0.7.1\n",
      "diff-match-patch                   20200713\n",
      "distributed                        2021.4.0\n",
      "docutils                           0.17\n",
      "entrypoints                        0.3\n",
      "et-xmlfile                         1.0.1\n",
      "fastcache                          1.1.0\n",
      "filelock                           3.0.12\n",
      "flake8                             3.9.0\n",
      "Flask                              1.1.2\n",
      "fsspec                             0.9.0\n",
      "future                             0.18.2\n",
      "gevent                             21.1.2\n",
      "glob2                              0.7\n",
      "greenlet                           1.0.0\n",
      "h5py                               2.10.0\n",
      "HeapDict                           1.0.1\n",
      "html5lib                           1.1\n",
      "idna                               2.10\n",
      "imagecodecs                        2021.3.31\n",
      "imageio                            2.9.0\n",
      "imagesize                          1.2.0\n",
      "importlib-metadata                 3.10.0\n",
      "iniconfig                          1.1.1\n",
      "intervaltree                       3.1.0\n",
      "ipykernel                          5.3.4\n",
      "ipython                            7.22.0\n",
      "ipython-genutils                   0.2.0\n",
      "ipywidgets                         7.6.3\n",
      "isort                              5.8.0\n",
      "itsdangerous                       1.1.0\n",
      "jdcal                              1.4.1\n",
      "jedi                               0.17.2\n",
      "Jinja2                             2.11.3\n",
      "joblib                             1.0.1\n",
      "json5                              0.9.5\n",
      "jsonschema                         3.2.0\n",
      "jupyter                            1.0.0\n",
      "jupyter-client                     6.1.12\n",
      "jupyter-console                    6.4.0\n",
      "jupyter-core                       4.7.1\n",
      "jupyter-packaging                  0.7.12\n",
      "jupyter-server                     1.4.1\n",
      "jupyterlab                         3.0.14\n",
      "jupyterlab-pygments                0.1.2\n",
      "jupyterlab-server                  2.4.0\n",
      "jupyterlab-widgets                 1.0.0\n",
      "keyring                            22.3.0\n",
      "kiwisolver                         1.3.1\n",
      "lazy-object-proxy                  1.6.0\n",
      "libarchive-c                       2.9\n",
      "llvmlite                           0.36.0\n",
      "locket                             0.2.1\n",
      "lxml                               4.6.3\n",
      "MarkupSafe                         1.1.1\n",
      "matplotlib                         3.3.4\n",
      "mccabe                             0.6.1\n",
      "menuinst                           1.4.16\n",
      "mistune                            0.8.4\n",
      "mkl-fft                            1.3.0\n",
      "mkl-random                         1.2.1\n",
      "mkl-service                        2.3.0\n",
      "mock                               4.0.3\n",
      "more-itertools                     8.7.0\n",
      "mpmath                             1.2.1\n",
      "msgpack                            1.0.2\n",
      "multipledispatch                   0.6.0\n",
      "mypy-extensions                    0.4.3\n",
      "navigator-updater                  0.2.1\n",
      "nbclassic                          0.2.6\n",
      "nbclient                           0.5.3\n",
      "nbconvert                          6.0.7"
     ]
    }
   ],
   "source": [
    "!pip list"
   ]
  },
  {
   "cell_type": "markdown",
   "id": "f9926407",
   "metadata": {},
   "source": [
    "## Importing Libraries required"
   ]
  },
  {
   "cell_type": "code",
   "execution_count": 3,
   "id": "6cd93f3e",
   "metadata": {},
   "outputs": [
    {
     "name": "stdout",
     "output_type": "stream",
     "text": [
      "\n",
      "nbformat                           5.1.3\n",
      "nest-asyncio                       1.5.1\n",
      "networkx                           2.5\n",
      "nltk                               3.6.1\n",
      "nose                               1.3.7\n",
      "notebook                           6.3.0\n",
      "numba                              0.53.1\n",
      "numexpr                            2.7.3\n",
      "numpy                              1.20.1\n",
      "numpydoc                           1.1.0\n",
      "olefile                            0.46\n",
      "openpyxl                           3.0.7\n",
      "packaging                          20.9\n",
      "pandas                             1.2.4\n",
      "pandocfilters                      1.4.3\n",
      "paramiko                           2.7.2\n",
      "parso                              0.7.0\n",
      "partd                              1.2.0\n",
      "path                               15.1.2\n",
      "pathlib2                           2.3.5\n",
      "pathspec                           0.7.0\n",
      "patsy                              0.5.1\n",
      "pep8                               1.7.1\n",
      "pexpect                            4.8.0\n",
      "pickleshare                        0.7.5\n",
      "Pillow                             8.2.0\n",
      "pip                                21.0.1\n",
      "pkginfo                            1.7.0\n",
      "pluggy                             0.13.1\n",
      "ply                                3.11\n",
      "prometheus-client                  0.10.1\n",
      "prompt-toolkit                     3.0.17\n",
      "psutil                             5.8.0\n",
      "ptyprocess                         0.7.0\n",
      "py                                 1.10.0\n",
      "pycodestyle                        2.6.0\n",
      "pycosat                            0.6.3\n",
      "pycparser                          2.20\n",
      "pycurl                             7.43.0.6\n",
      "pydocstyle                         6.0.0\n",
      "pyerfa                             1.7.3\n",
      "pyflakes                           2.2.0\n",
      "Pygments                           2.8.1\n",
      "pylint                             2.7.4\n",
      "pyls-black                         0.4.6\n",
      "pyls-spyder                        0.3.2\n",
      "PyNaCl                             1.4.0\n",
      "pyodbc                             4.0.0-unsupported\n",
      "pyOpenSSL                          20.0.1\n",
      "pyparsing                          2.4.7\n",
      "pyreadline                         2.1\n",
      "pyrsistent                         0.17.3\n",
      "PySocks                            1.7.1\n",
      "pytest                             6.2.3\n",
      "python-dateutil                    2.8.1\n",
      "python-jsonrpc-server              0.4.0\n",
      "python-language-server             0.36.2\n",
      "pytz                               2021.1\n",
      "PyWavelets                         1.1.1\n",
      "pywin32                            227\n",
      "pywin32-ctypes                     0.2.0\n",
      "pywinpty                           0.5.7\n",
      "PyYAML                             5.4.1\n",
      "pyzmq                              20.0.0\n",
      "QDarkStyle                         2.8.1\n",
      "QtAwesome                          1.0.2\n",
      "qtconsole                          5.0.3\n",
      "QtPy                               1.9.0\n",
      "regex                              2021.4.4\n",
      "requests                           2.25.1\n",
      "rope                               0.18.0\n",
      "Rtree                              0.9.7\n",
      "ruamel-yaml-conda                  0.15.100\n",
      "scikit-image                       0.18.1\n",
      "scikit-learn                       0.24.1\n",
      "scipy                              1.6.2\n",
      "seaborn                            0.11.1\n",
      "Send2Trash                         1.5.0\n",
      "setuptools                         52.0.0.post20210125\n",
      "simplegeneric                      0.8.1\n",
      "singledispatch                     0.0.0\n",
      "sip                                4.19.13\n",
      "six                                1.15.0\n",
      "sniffio                            1.2.0\n",
      "snowballstemmer                    2.1.0\n",
      "sortedcollections                  2.1.0\n",
      "sortedcontainers                   2.3.0\n",
      "soupsieve                          2.2.1\n",
      "Sphinx                             4.0.1\n",
      "sphinxcontrib-applehelp            1.0.2\n",
      "sphinxcontrib-devhelp              1.0.2\n",
      "sphinxcontrib-htmlhelp             1.0.3\n",
      "sphinxcontrib-jsmath               1.0.1\n",
      "sphinxcontrib-qthelp               1.0.3\n",
      "sphinxcontrib-serializinghtml      1.1.4\n",
      "sphinxcontrib-websupport           1.2.4\n",
      "spyder                             4.2.5\n",
      "spyder-kernels                     1.10.2\n",
      "SQLAlchemy                         1.4.7\n",
      "statsmodels                        0.12.2\n",
      "sympy                              1.8\n",
      "tables                             3.6.1\n",
      "tblib                              1.7.0\n",
      "terminado                          0.9.4\n",
      "testpath                           0.4.4\n",
      "textdistance                       4.2.1\n",
      "threadpoolctl                      2.1.0\n",
      "three-merge                        0.1.1\n",
      "tifffile                           2021.4.8\n",
      "toml                               0.10.2\n",
      "toolz                              0.11.1\n",
      "tornado                            6.1\n",
      "tqdm                               4.59.0\n",
      "traitlets                          5.0.5\n",
      "typed-ast                          1.4.2\n",
      "typing-extensions                  3.7.4.3\n",
      "ujson                              4.0.2\n",
      "unicodecsv                         0.14.1\n",
      "urllib3                            1.26.4\n",
      "watchdog                           1.0.2\n",
      "wcwidth                            0.2.5\n",
      "webencodings                       0.5.1\n",
      "Werkzeug                           1.0.1\n",
      "wheel                              0.36.2\n",
      "widgetsnbextension                 3.5.1\n",
      "win-inet-pton                      1.1.0\n",
      "win-unicode-console                0.5\n",
      "wincertstore                       0.2\n",
      "wrapt                              1.12.1\n",
      "xlrd                               2.0.1\n",
      "XlsxWriter                         1.3.8\n",
      "xlwings                            0.23.0\n",
      "xlwt                               1.3.0\n",
      "xmltodict                          0.12.0\n",
      "yapf                               0.31.0\n",
      "zict                               2.0.0\n",
      "zipp                               3.4.1\n",
      "zope.event                         4.5.0\n",
      "zope.interface                     5.3.0\n"
     ]
    }
   ],
   "source": [
    "import pandas as pd\n",
    "import numpy as np\n",
    "from matplotlib import pyplot as plt\n",
    "import seaborn as sns\n",
    "\n",
    "%matplotlib inline"
   ]
  },
  {
   "cell_type": "markdown",
   "id": "bf19c0b9",
   "metadata": {},
   "source": [
    "# Importing the CSV files \n",
    "There are two files to be imported\n",
    "1. observations.csv\n",
    "2. species_info.csv"
   ]
  },
  {
   "cell_type": "code",
   "execution_count": 4,
   "id": "0de8852d",
   "metadata": {},
   "outputs": [],
   "source": [
    "obs = pd.read_csv('observations.csv')\n",
    "species = pd.read_csv('species_info.csv')"
   ]
  },
  {
   "cell_type": "markdown",
   "id": "5fde9c8b",
   "metadata": {},
   "source": [
    "#### Checking the first 5 rows of the two df"
   ]
  },
  {
   "cell_type": "code",
   "execution_count": 5,
   "id": "42942817",
   "metadata": {},
   "outputs": [
    {
     "name": "stdout",
     "output_type": "stream",
     "text": [
      "The first five rows of Observation csv file\n",
      "            scientific_name                            park_name  observations\n",
      "0        Vicia benghalensis  Great Smoky Mountains National Park            68\n",
      "1            Neovison vison  Great Smoky Mountains National Park            77\n",
      "2         Prunus subcordata               Yosemite National Park           138\n",
      "3      Abutilon theophrasti                  Bryce National Park            84\n",
      "4  Githopsis specularioides  Great Smoky Mountains National Park            85\n"
     ]
    }
   ],
   "source": [
    "print(\"The first five rows of Observation csv file\")\n",
    "print(obs.head())"
   ]
  },
  {
   "cell_type": "code",
   "execution_count": 6,
   "id": "26295d47",
   "metadata": {},
   "outputs": [
    {
     "name": "stdout",
     "output_type": "stream",
     "text": [
      "The first five rows of the Species csv file\n",
      "  category                scientific_name  \\\n",
      "0   Mammal  Clethrionomys gapperi gapperi   \n",
      "1   Mammal                      Bos bison   \n",
      "2   Mammal                     Bos taurus   \n",
      "3   Mammal                     Ovis aries   \n",
      "4   Mammal                 Cervus elaphus   \n",
      "\n",
      "                                        common_names conservation_status  \n",
      "0                           Gapper's Red-Backed Vole                 NaN  \n",
      "1                              American Bison, Bison                 NaN  \n",
      "2  Aurochs, Aurochs, Domestic Cattle (Feral), Dom...                 NaN  \n",
      "3  Domestic Sheep, Mouflon, Red Sheep, Sheep (Feral)                 NaN  \n",
      "4                                      Wapiti Or Elk                 NaN  \n"
     ]
    }
   ],
   "source": [
    "print(\"The first five rows of the Species csv file\")\n",
    "print(species.head())"
   ]
  },
  {
   "cell_type": "markdown",
   "id": "faf61e69",
   "metadata": {},
   "source": [
    "# Preliminary Analysis\n",
    "1. shape of the tables\n",
    "2. column name of the tables\n",
    "3. dtypes of the table\n",
    "4. info on the table\n",
    "5. description to whatever there is"
   ]
  },
  {
   "cell_type": "markdown",
   "id": "52560137",
   "metadata": {},
   "source": [
    "### Shape of the Tables\n",
    "#### 1. Obs"
   ]
  },
  {
   "cell_type": "code",
   "execution_count": 7,
   "id": "7ce169f5",
   "metadata": {},
   "outputs": [
    {
     "name": "stdout",
     "output_type": "stream",
     "text": [
      "This is the shape of Observation csv file\n",
      "(23296, 3)\n"
     ]
    }
   ],
   "source": [
    "print(\"This is the shape of Observation csv file\")\n",
    "print(obs.shape)"
   ]
  },
  {
   "cell_type": "markdown",
   "id": "f3b17925",
   "metadata": {},
   "source": [
    "#### 2. Species"
   ]
  },
  {
   "cell_type": "code",
   "execution_count": 8,
   "id": "c7cd6808",
   "metadata": {},
   "outputs": [
    {
     "name": "stdout",
     "output_type": "stream",
     "text": [
      "This is the shape of the species csv file\n",
      "(5824, 4)\n"
     ]
    }
   ],
   "source": [
    "print(\"This is the shape of the species csv file\")\n",
    "print(species.shape)"
   ]
  },
  {
   "cell_type": "markdown",
   "id": "19758807",
   "metadata": {},
   "source": [
    "### Column name for each of these table"
   ]
  },
  {
   "cell_type": "code",
   "execution_count": 9,
   "id": "483b1e93",
   "metadata": {},
   "outputs": [
    {
     "name": "stdout",
     "output_type": "stream",
     "text": [
      "Index(['scientific_name', 'park_name', 'observations'], dtype='object')\n",
      "Index(['category', 'scientific_name', 'common_names', 'conservation_status'], dtype='object')\n"
     ]
    }
   ],
   "source": [
    "# first is for obs\n",
    "print(obs.columns)\n",
    "print(species.columns)"
   ]
  },
  {
   "cell_type": "markdown",
   "id": "3e257ac9",
   "metadata": {},
   "source": [
    "### Dtypes"
   ]
  },
  {
   "cell_type": "code",
   "execution_count": 10,
   "id": "c49f26e7",
   "metadata": {},
   "outputs": [
    {
     "name": "stdout",
     "output_type": "stream",
     "text": [
      "scientific_name    object\n",
      "park_name          object\n",
      "observations        int64\n",
      "dtype: object\n",
      "category               object\n",
      "scientific_name        object\n",
      "common_names           object\n",
      "conservation_status    object\n",
      "dtype: object\n"
     ]
    }
   ],
   "source": [
    "print(obs.dtypes)\n",
    "print(species.dtypes)"
   ]
  },
  {
   "cell_type": "markdown",
   "id": "aba3a79c",
   "metadata": {},
   "source": [
    "#### Inference\n",
    "The two tables have one common column: scientific_name\n",
    "I want to check what unique names are present in these two columns"
   ]
  },
  {
   "cell_type": "code",
   "execution_count": 11,
   "id": "2480c658",
   "metadata": {},
   "outputs": [
    {
     "name": "stdout",
     "output_type": "stream",
     "text": [
      "5541\n"
     ]
    }
   ],
   "source": [
    "print(obs.scientific_name.nunique())"
   ]
  },
  {
   "cell_type": "code",
   "execution_count": 12,
   "id": "48680e9e",
   "metadata": {},
   "outputs": [
    {
     "name": "stdout",
     "output_type": "stream",
     "text": [
      "5541\n"
     ]
    }
   ],
   "source": [
    "print(species.scientific_name.nunique())"
   ]
  },
  {
   "cell_type": "markdown",
   "id": "173ee173",
   "metadata": {},
   "source": [
    "They both have the same number of scientific names"
   ]
  },
  {
   "cell_type": "markdown",
   "id": "44654f19",
   "metadata": {},
   "source": [
    "### Info on the two tables"
   ]
  },
  {
   "cell_type": "code",
   "execution_count": 13,
   "id": "85c2cea4",
   "metadata": {},
   "outputs": [
    {
     "name": "stdout",
     "output_type": "stream",
     "text": [
      "<class 'pandas.core.frame.DataFrame'>\n",
      "RangeIndex: 23296 entries, 0 to 23295\n",
      "Data columns (total 3 columns):\n",
      " #   Column           Non-Null Count  Dtype \n",
      "---  ------           --------------  ----- \n",
      " 0   scientific_name  23296 non-null  object\n",
      " 1   park_name        23296 non-null  object\n",
      " 2   observations     23296 non-null  int64 \n",
      "dtypes: int64(1), object(2)\n",
      "memory usage: 546.1+ KB\n",
      "None\n"
     ]
    }
   ],
   "source": [
    "print(obs.info())"
   ]
  },
  {
   "cell_type": "code",
   "execution_count": 14,
   "id": "42e674bb",
   "metadata": {},
   "outputs": [
    {
     "name": "stdout",
     "output_type": "stream",
     "text": [
      "<class 'pandas.core.frame.DataFrame'>\n",
      "RangeIndex: 5824 entries, 0 to 5823\n",
      "Data columns (total 4 columns):\n",
      " #   Column               Non-Null Count  Dtype \n",
      "---  ------               --------------  ----- \n",
      " 0   category             5824 non-null   object\n",
      " 1   scientific_name      5824 non-null   object\n",
      " 2   common_names         5824 non-null   object\n",
      " 3   conservation_status  191 non-null    object\n",
      "dtypes: object(4)\n",
      "memory usage: 182.1+ KB\n",
      "None\n"
     ]
    }
   ],
   "source": [
    "print(species.info())"
   ]
  },
  {
   "cell_type": "markdown",
   "id": "5719b9be",
   "metadata": {},
   "source": [
    "#### Inference\n",
    "The species has many null rows, checking on each of those"
   ]
  },
  {
   "cell_type": "code",
   "execution_count": 15,
   "id": "009622f0",
   "metadata": {},
   "outputs": [
    {
     "name": "stdout",
     "output_type": "stream",
     "text": [
      "category                  0\n",
      "scientific_name           0\n",
      "common_names              0\n",
      "conservation_status    5633\n",
      "dtype: int64\n"
     ]
    }
   ],
   "source": [
    "print(species.isnull().sum())"
   ]
  },
  {
   "cell_type": "markdown",
   "id": "24259887",
   "metadata": {},
   "source": [
    "Only the conservation status is null"
   ]
  },
  {
   "cell_type": "markdown",
   "id": "7d88b20e",
   "metadata": {},
   "source": [
    "### Checking on the summary statistics in obs"
   ]
  },
  {
   "cell_type": "code",
   "execution_count": 16,
   "id": "565b0fb3",
   "metadata": {},
   "outputs": [
    {
     "name": "stdout",
     "output_type": "stream",
     "text": [
      "       observations\n",
      "count  23296.000000\n",
      "mean     142.287904\n",
      "std       69.890532\n",
      "min        9.000000\n",
      "25%       86.000000\n",
      "50%      124.000000\n",
      "75%      195.000000\n",
      "max      321.000000\n"
     ]
    }
   ],
   "source": [
    "print(obs.describe())"
   ]
  },
  {
   "cell_type": "markdown",
   "id": "1cbd32d6",
   "metadata": {},
   "source": [
    "##### the scientific name in both the tables have 5000 odd species so we cannot do an easy box plot of that"
   ]
  },
  {
   "cell_type": "markdown",
   "id": "f99144b0",
   "metadata": {},
   "source": [
    "# Checking on the different available categorical values of conservation status"
   ]
  },
  {
   "cell_type": "code",
   "execution_count": 17,
   "id": "85c4c037",
   "metadata": {},
   "outputs": [
    {
     "name": "stdout",
     "output_type": "stream",
     "text": [
      "There are 4 conservational status\n",
      "They are: \n",
      "[nan 'Species of Concern' 'Endangered' 'Threatened' 'In Recovery']\n",
      "There are also 5633 NaN values present\n"
     ]
    }
   ],
   "source": [
    "print(\"There are \" + str(species.conservation_status.nunique()) + \" conservational status\")\n",
    "print(\"They are: \")\n",
    "print(species.conservation_status.unique())\n",
    "print(\"There are also \" + str(species.conservation_status.isnull().sum()) + \" NaN values present\")"
   ]
  },
  {
   "cell_type": "markdown",
   "id": "a39a08f3",
   "metadata": {},
   "source": [
    "#### Inference\n",
    "The NaN values show that we do not need to intervene, hence we will replace NaN with \"No Intervention Required\""
   ]
  },
  {
   "cell_type": "code",
   "execution_count": 18,
   "id": "0cc26108",
   "metadata": {},
   "outputs": [
    {
     "name": "stdout",
     "output_type": "stream",
     "text": [
      "0\n",
      "['No Intervention Required' 'Species of Concern' 'Endangered' 'Threatened'\n",
      " 'In Recovery']\n"
     ]
    }
   ],
   "source": [
    "species['conservation_status'] = species['conservation_status'].fillna(\"No Intervention Required\")\n",
    "print(species.conservation_status.isnull().sum())\n",
    "print(species.conservation_status.unique())"
   ]
  },
  {
   "cell_type": "markdown",
   "id": "0c5564e5",
   "metadata": {},
   "source": [
    "#### checking shape of the column (number of rows in each one)"
   ]
  },
  {
   "cell_type": "code",
   "execution_count": 19,
   "id": "6d7add16",
   "metadata": {},
   "outputs": [
    {
     "name": "stdout",
     "output_type": "stream",
     "text": [
      "conservation_status\n",
      "Endangered                    16\n",
      "In Recovery                    4\n",
      "No Intervention Required    5633\n",
      "Species of Concern           161\n",
      "Threatened                    10\n",
      "dtype: int64\n"
     ]
    }
   ],
   "source": [
    "print(species.groupby(\"conservation_status\").size())"
   ]
  },
  {
   "cell_type": "markdown",
   "id": "d222e673",
   "metadata": {},
   "source": [
    "### Checking what values are present in the column common names in species"
   ]
  },
  {
   "cell_type": "code",
   "execution_count": 20,
   "id": "ac9f5129",
   "metadata": {},
   "outputs": [
    {
     "name": "stdout",
     "output_type": "stream",
     "text": [
      "5504\n"
     ]
    }
   ],
   "source": [
    "print(species.common_names.nunique())\n",
    "#print(species.common_names.unique())"
   ]
  },
  {
   "cell_type": "markdown",
   "id": "203af0ab",
   "metadata": {},
   "source": [
    "# Checking on the categories present in species"
   ]
  },
  {
   "cell_type": "code",
   "execution_count": 21,
   "id": "f9733d4f",
   "metadata": {},
   "outputs": [
    {
     "name": "stdout",
     "output_type": "stream",
     "text": [
      "Number of categories there are in the species table is 7\n",
      "They are ['Mammal' 'Bird' 'Reptile' 'Amphibian' 'Fish' 'Vascular Plant'\n",
      " 'Nonvascular Plant']\n"
     ]
    }
   ],
   "source": [
    "print(f\"Number of categories there are in the species table is {species.category.nunique()}\")\n",
    "print(f\"They are {species.category.unique()}\")"
   ]
  },
  {
   "cell_type": "markdown",
   "id": "4cf525a2",
   "metadata": {},
   "source": [
    "#### Checking how many species are placed in each one"
   ]
  },
  {
   "cell_type": "code",
   "execution_count": 22,
   "id": "bb1073dd",
   "metadata": {},
   "outputs": [
    {
     "name": "stdout",
     "output_type": "stream",
     "text": [
      "category\n",
      "Amphibian              80\n",
      "Bird                  521\n",
      "Fish                  127\n",
      "Mammal                214\n",
      "Nonvascular Plant     333\n",
      "Reptile                79\n",
      "Vascular Plant       4470\n",
      "dtype: int64\n"
     ]
    }
   ],
   "source": [
    "print(species.groupby(\"category\").size())"
   ]
  },
  {
   "cell_type": "markdown",
   "id": "f18eac83",
   "metadata": {},
   "source": [
    "# Checking how the shape of observation is "
   ]
  },
  {
   "cell_type": "code",
   "execution_count": 23,
   "id": "de8a0533",
   "metadata": {},
   "outputs": [
    {
     "name": "stdout",
     "output_type": "stream",
     "text": [
      "park_name\n",
      "Bryce National Park                    5824\n",
      "Great Smoky Mountains National Park    5824\n",
      "Yellowstone National Park              5824\n",
      "Yosemite National Park                 5824\n",
      "dtype: int64\n",
      "['Great Smoky Mountains National Park' 'Yosemite National Park'\n",
      " 'Bryce National Park' 'Yellowstone National Park']\n",
      "5824.0\n",
      "the parks are equally divided among all the dataframe\n"
     ]
    }
   ],
   "source": [
    "print(obs.groupby(\"park_name\").size())\n",
    "print(obs.park_name.unique())\n",
    "print(len(obs)/4)\n",
    "print(\"the parks are equally divided among all the dataframe\")"
   ]
  },
  {
   "cell_type": "markdown",
   "id": "3fbe4556",
   "metadata": {},
   "source": [
    "## Making a new table\n",
    " to see what scientific_name and category (expect for \"No Intervention Required\") is like"
   ]
  },
  {
   "cell_type": "code",
   "execution_count": 24,
   "id": "d50da496",
   "metadata": {},
   "outputs": [
    {
     "name": "stdout",
     "output_type": "stream",
     "text": [
      "category             Amphibian  Bird  Fish  Mammal  Nonvascular Plant  \\\n",
      "conservation_status                                                     \n",
      "Endangered                 1.0   4.0   3.0     7.0                NaN   \n",
      "In Recovery                NaN   3.0   NaN     1.0                NaN   \n",
      "Species of Concern         4.0  72.0   4.0    28.0                5.0   \n",
      "Threatened                 2.0   NaN   4.0     2.0                NaN   \n",
      "\n",
      "category             Reptile  Vascular Plant  \n",
      "conservation_status                           \n",
      "Endangered               NaN             1.0  \n",
      "In Recovery              NaN             NaN  \n",
      "Species of Concern       5.0            43.0  \n",
      "Threatened               NaN             2.0  \n"
     ]
    }
   ],
   "source": [
    "conservation_category = species[species.conservation_status != 'No Intervention Required']\\\n",
    "                        .groupby([\"conservation_status\", \"category\"])['scientific_name']\\\n",
    "                        .count()\\\n",
    "                        .unstack()\n",
    "#conservation_category = conservation_category.pivot(columns = 'conservation_status', index = 'category', \\\n",
    "                                                    #values = 'scientific_name')\n",
    "print(conservation_category)"
   ]
  },
  {
   "cell_type": "markdown",
   "id": "2f778d9e",
   "metadata": {},
   "source": [
    "### Plotting the conservation_category in a stacked bar plot"
   ]
  },
  {
   "cell_type": "code",
   "execution_count": 25,
   "id": "02b73d67",
   "metadata": {},
   "outputs": [
    {
     "data": {
      "image/png": "[encoded data removed]",
      "text/plain": [
       "<Figure size 576x432 with 1 Axes>"
      ]
     },
     "metadata": {
      "needs_background": "light"
     },
     "output_type": "display_data"
    }
   ],
   "source": [
    "conservation_category.plot(kind = 'bar', figsize=(8, 6), stacked=True)\n",
    "plt.xlabel(\"Conservation Status\")\n",
    "plt.ylabel(\"Number of Species\")\n",
    "plt.show()"
   ]
  },
  {
   "cell_type": "markdown",
   "id": "80ad4468",
   "metadata": {},
   "source": [
    "### Now we know that some of the category are protected and some are not.\n",
    "Lets see the ratio of these things"
   ]
  },
  {
   "cell_type": "code",
   "execution_count": 26,
   "id": "b3bc47e9",
   "metadata": {},
   "outputs": [
    {
     "name": "stdout",
     "output_type": "stream",
     "text": [
      "0    False\n",
      "1    False\n",
      "2    False\n",
      "3    False\n",
      "4    False\n",
      "Name: is_protected, dtype: bool\n"
     ]
    }
   ],
   "source": [
    "# creating a new column in species\n",
    "species['is_protected'] = species.conservation_status != \"No Intervention Required\"\n",
    "print(species.is_protected.head())"
   ]
  },
  {
   "cell_type": "code",
   "execution_count": 27,
   "id": "0abdd91b",
   "metadata": {},
   "outputs": [
    {
     "name": "stdout",
     "output_type": "stream",
     "text": [
      "            category  not_protected  is_protected\n",
      "0          Amphibian             72             7\n",
      "1               Bird            413            75\n",
      "2               Fish            115            11\n",
      "3             Mammal            146            30\n",
      "4  Nonvascular Plant            328             5\n",
      "5            Reptile             73             5\n",
      "6     Vascular Plant           4216            46\n"
     ]
    }
   ],
   "source": [
    "# creating a table that tallies the category if they are protected or not\n",
    "category_counts = species.groupby(['category', 'is_protected'])\\\n",
    "                        .scientific_name.nunique()\\\n",
    "                        .reset_index()\\\n",
    "                        .pivot_table(columns='is_protected', \n",
    "                                    index = 'category',\n",
    "                                    values = 'scientific_name')\\\n",
    "                        . reset_index()\n",
    "\n",
    "# renaming the columns\n",
    "category_counts.columns = ['category', 'not_protected', 'is_protected']\n",
    "print(category_counts)"
   ]
  },
  {
   "cell_type": "markdown",
   "id": "e42f0360",
   "metadata": {},
   "source": [
    "#### Changing it to ratios\n",
    "Absolute numbers are difficult to interpretate, so we will keep them is percents"
   ]
  },
  {
   "cell_type": "code",
   "execution_count": 28,
   "id": "72671f00",
   "metadata": {},
   "outputs": [
    {
     "name": "stdout",
     "output_type": "stream",
     "text": [
      "            category  not_protected  is_protected  percent_protected\n",
      "0          Amphibian             72             7           8.860759\n",
      "1               Bird            413            75          15.368852\n",
      "2               Fish            115            11           8.730159\n",
      "3             Mammal            146            30          17.045455\n",
      "4  Nonvascular Plant            328             5           1.501502\n",
      "5            Reptile             73             5           6.410256\n",
      "6     Vascular Plant           4216            46           1.079305\n"
     ]
    }
   ],
   "source": [
    "category_counts['percent_protected'] = (category_counts.is_protected)\\\n",
    "                                            / (category_counts.is_protected + category_counts.not_protected)*100\n",
    "print(category_counts)"
   ]
  },
  {
   "cell_type": "markdown",
   "id": "bab2cbe7",
   "metadata": {},
   "source": [
    "# Finding if there are any significances\n",
    "We will use a contingency table to tell us if there are any relationships between mammals and birds"
   ]
  },
  {
   "cell_type": "code",
   "execution_count": 29,
   "id": "15d21fcc",
   "metadata": {},
   "outputs": [
    {
     "name": "stdout",
     "output_type": "stream",
     "text": [
      "for the contingency table [[413, 75], [146, 30]]\n",
      "The P-value is Significant: 0.69\n"
     ]
    }
   ],
   "source": [
    "# first importing the library\n",
    "from scipy.stats import chi2_contingency\n",
    "contingency_table1 = [[413, 75],\n",
    "                    [146, 30]]\n",
    "chi2, pval, dof, expected = chi2_contingency(contingency_table1)\n",
    "\n",
    "print(\"for the contingency table \" + str(contingency_table1))\n",
    "if pval > 0.05:\n",
    "    print(\"The P-value is Significant: \" + str(np.round(pval, 2)))\n",
    "else:\n",
    "    print(\"The P-value is not Significant\")"
   ]
  },
  {
   "cell_type": "markdown",
   "id": "8ea107a5",
   "metadata": {},
   "source": [
    "Checking other pairs, like mammal and reptiles"
   ]
  },
  {
   "cell_type": "code",
   "execution_count": 30,
   "id": "9f2f4223",
   "metadata": {},
   "outputs": [
    {
     "name": "stdout",
     "output_type": "stream",
     "text": [
      "For the contingency table between Mammals and reptiles: [[146, 30], [73, 5]]\n",
      "The pval is not significant: 0.04\n"
     ]
    }
   ],
   "source": [
    "contingency_table2 = [[146, 30], \n",
    "                      [73, 5]]\n",
    "chi2, pval, dof, expected = chi2_contingency(contingency_table2)\n",
    "\n",
    "print(f\"For the contingency table between Mammals and reptiles: {contingency_table2}\")\n",
    "if pval > 0.05:\n",
    "    print(f\"The pval is Significant: {np.round(pval, 2)}\")\n",
    "else:\n",
    "    print(f\"The pval is not significant: {np.round(pval, 2)}\")"
   ]
  },
  {
   "cell_type": "markdown",
   "id": "6803bc9c",
   "metadata": {},
   "source": [
    "# Species in the Parks\n",
    "To do this, we need to get the common names from the speicies to get an idea of how prevalent an animal is in a dataset. The data will be split up into their individual names"
   ]
  },
  {
   "cell_type": "code",
   "execution_count": 36,
   "id": "4a02e5e7",
   "metadata": {},
   "outputs": [
    {
     "name": "stdout",
     "output_type": "stream",
     "text": [
      "[['Gappers', 'RedBacked', 'Vole'], ['American', 'Bison', 'Bison'], ['Aurochs', 'Aurochs', 'Domestic', 'Cattle', 'Feral', 'Domesticated', 'Cattle'], ['Domestic', 'Sheep', 'Mouflon', 'Red', 'Sheep', 'Sheep', 'Feral'], ['Wapiti', 'Or', 'Elk'], ['WhiteTailed', 'Deer']]\n"
     ]
    }
   ],
   "source": [
    "from itertools import chain\n",
    "import string\n",
    "\n",
    "# defining a function that will remove punctuation marks\n",
    "def remove_punctuations(text):\n",
    "    for punctuation in string.punctuation:\n",
    "        text = text.replace(punctuation, '')\n",
    "    return text\n",
    "\n",
    "# common names of the animals are like \"Grapper's Red-Backed Vole\" or \"American Bison, Bison\"\n",
    "# so we will remove the punctuation and convert the strings to lists of strings separated by ' '\n",
    "#print(species.category.unique())\n",
    "#print(species.common_names.unique())\n",
    "\n",
    "common_Names = species[species.category == 'Mammal']\\\n",
    "               .common_names.apply(remove_punctuations)\\\n",
    "                .str.split().tolist()\n",
    "\n",
    "print(common_Names[:6])"
   ]
  },
  {
   "cell_type": "markdown",
   "id": "48ef5c4c",
   "metadata": {},
   "source": [
    "Next step is to clean up the duplicates in each row so that they will not be counted more than one per species"
   ]
  },
  {
   "cell_type": "code",
   "execution_count": 37,
   "id": "9925ec74",
   "metadata": {},
   "outputs": [
    {
     "name": "stdout",
     "output_type": "stream",
     "text": [
      "[['Gappers', 'RedBacked', 'Vole'], ['American', 'Bison'], ['Aurochs', 'Domestic', 'Cattle', 'Feral', 'Domesticated'], ['Domestic', 'Sheep', 'Mouflon', 'Red', 'Feral'], ['Wapiti', 'Or', 'Elk'], ['WhiteTailed', 'Deer']]\n"
     ]
    }
   ],
   "source": [
    "clean_rows = []\n",
    "\n",
    "for item in common_Names:\n",
    "    item = list(dict.fromkeys(item))\n",
    "    clean_rows.append(item)\n",
    "    \n",
    "print(clean_rows[:6])"
   ]
  },
  {
   "cell_type": "markdown",
   "id": "0169701c",
   "metadata": {},
   "source": [
    "Now the words need to collapsed into one list for easier use"
   ]
  },
  {
   "cell_type": "code",
   "execution_count": 55,
   "id": "67d9db51",
   "metadata": {},
   "outputs": [
    {
     "name": "stdout",
     "output_type": "stream",
     "text": [
      "['Gappers', 'RedBacked', 'Vole', 'American', 'Bison', 'Aurochs']\n"
     ]
    }
   ],
   "source": [
    "res = list(chain.from_iterable(i if isinstance(i, list) else [i] for i in clean_rows))\n",
    "print(res[:6])"
   ]
  },
  {
   "cell_type": "markdown",
   "id": "03a134ad",
   "metadata": {},
   "source": [
    "Now the data is ready to be able to count the number of occourence of each word. We will create a dataframe for this "
   ]
  },
  {
   "cell_type": "code",
   "execution_count": 76,
   "id": "bc72205d",
   "metadata": {},
   "outputs": [
    {
     "name": "stdout",
     "output_type": "stream",
     "text": [
      "    index      Word  Counts\n",
      "0      51       Bat      23\n",
      "1     110     Shrew      18\n",
      "2      57    Myotis      17\n",
      "3      88     Mouse      16\n",
      "4     107  Chipmunk      13\n",
      "5       3  American      12\n",
      "6     105  Squirrel      12\n",
      "7      37   Eastern      11\n",
      "8       2      Vole      11\n",
      "9      29  Mountain      10\n",
      "10    134   Western      10\n"
     ]
    }
   ],
   "source": [
    "word_counted = []\n",
    "\n",
    "for i in res:\n",
    "    x = res.count(i)\n",
    "    word_counted.append(x)\n"
   ]
  },
  {
   "cell_type": "markdown",
   "id": "a68cadea",
   "metadata": {},
   "source": [
    "Creating the dataframe from the list"
   ]
  },
  {
   "cell_type": "code",
   "execution_count": 77,
   "id": "fd0fbfdb",
   "metadata": {},
   "outputs": [
    {
     "name": "stdout",
     "output_type": "stream",
     "text": [
      "    index      Word  Counts\n",
      "0      51       Bat      23\n",
      "1     110     Shrew      18\n",
      "2      57    Myotis      17\n",
      "3      88     Mouse      16\n",
      "4     107  Chipmunk      13\n",
      "5       3  American      12\n",
      "6     105  Squirrel      12\n",
      "7      37   Eastern      11\n",
      "8       2      Vole      11\n",
      "9      29  Mountain      10\n",
      "10    134   Western      10\n"
     ]
    }
   ],
   "source": [
    "    \n",
    "#print(list(zip(word_counted, res)))\n",
    "# there are many duplicated present in the list\n",
    "mammal_dic = {key: value for key, value in zip(res, word_counted)}\n",
    "#print(mammal_dic)\n",
    "df = pd.DataFrame(list(mammal_dic.items()))\n",
    "df.columns = ['Word', 'Counts']\n",
    "print(df.sort_values('Counts', ascending=False).reset_index().head(11))"
   ]
  },
  {
   "cell_type": "markdown",
   "id": "603a37e6",
   "metadata": {},
   "source": [
    "### Using Regex to understand what species are with their scientific names\n",
    "We have many scientific names that are very complex to read, from the above table, we see that Bats are the largest species recorded. We will create a column in the species table where an animal is a bat or not and save the values as booleans"
   ]
  },
  {
   "cell_type": "code",
   "execution_count": 80,
   "id": "c32d3d70",
   "metadata": {},
   "outputs": [
    {
     "name": "stdout",
     "output_type": "stream",
     "text": [
      "is_bat\n",
      "False    5801\n",
      "True       23\n",
      "dtype: int64\n"
     ]
    }
   ],
   "source": [
    "species['is_bat'] = species.common_names.str.contains(r\"\\bBat\\b\", regex = True)\n",
    "\n",
    "#checking the dataframe\n",
    "#rint(species.head(10))\n",
    "\n",
    "# checking the number of values of bat or not\n",
    "print(species.groupby(\"is_bat\").size())"
   ]
  },
  {
   "cell_type": "markdown",
   "id": "abb6879a",
   "metadata": {},
   "source": [
    "Checking on the is_protected for the is_bat column"
   ]
  },
  {
   "cell_type": "code",
   "execution_count": 84,
   "id": "06f3c84b",
   "metadata": {},
   "outputs": [
    {
     "name": "stdout",
     "output_type": "stream",
     "text": [
      "     category            scientific_name  \\\n",
      "28     Mammal   Corynorhinus rafinesquii   \n",
      "29     Mammal           Eptesicus fuscus   \n",
      "30     Mammal  Lasionycteris noctivagans   \n",
      "31     Mammal          Lasiurus borealis   \n",
      "32     Mammal          Lasiurus cinereus   \n",
      "36     Mammal              Myotis leibii   \n",
      "37     Mammal           Myotis lucifugus   \n",
      "38     Mammal     Myotis septentrionalis   \n",
      "39     Mammal             Myotis sodalis   \n",
      "40     Mammal       Nycticeius humeralis   \n",
      "3033   Mammal         Antrozous pallidus   \n",
      "3034   Mammal    Corynorhinus townsendii   \n",
      "3035   Mammal           Eptesicus fuscus   \n",
      "3036   Mammal          Euderma maculatum   \n",
      "3037   Mammal  Lasionycteris noctivagans   \n",
      "3038   Mammal          Lasiurus cinereus   \n",
      "3040   Mammal         Myotis ciliolabrum   \n",
      "3042   Mammal           Myotis lucifugus   \n",
      "4461   Mammal             Eumops perotis   \n",
      "4462   Mammal      Tadarida brasiliensis   \n",
      "4463   Mammal    Corynorhinus townsendii   \n",
      "4464   Mammal      Lasiurus blossevillii   \n",
      "4468   Mammal      Parastrellus hesperus   \n",
      "\n",
      "                                           common_names  \\\n",
      "28                           Rafinesque's Big-Eared Bat   \n",
      "29                                        Big Brown Bat   \n",
      "30                                    Silver-Haired Bat   \n",
      "31                             Eastern Red Bat, Red Bat   \n",
      "32                                            Hoary Bat   \n",
      "36    Eastern Small-Footed Bat, Eastern Small-Footed...   \n",
      "37                Little Brown Bat, Little Brown Myotis   \n",
      "38             Northern Long-Eared Bat, Northern Myotis   \n",
      "39                Indiana Bat, Indiana Or Social Myotis   \n",
      "40                                          Evening Bat   \n",
      "3033                             Pallid Bat, Pallid Bat   \n",
      "3034  Mule-Eared Bat, Pacific Townsend's Big-Eared B...   \n",
      "3035                       Big Brown Bat, Big Brown Bat   \n",
      "3036                           Spotted Bat, Spotted Bat   \n",
      "3037               Silver-Haired Bat, Silver-Haired Bat   \n",
      "3038                               Hoary Bat, Hoary Bat   \n",
      "3040  Small-Footed Myotis, Western Small-Footed Bat,...   \n",
      "3042  Little Brown Bat, Little Brown Myotis, Little ...   \n",
      "4461                                Western Mastiff Bat   \n",
      "4462                            Mexican Free-Tailed Bat   \n",
      "4463                           Townsend's Big-Eared Bat   \n",
      "4464                                    Western Red Bat   \n",
      "4468                                         Canyon Bat   \n",
      "\n",
      "           conservation_status  is_protected  is_bat  \n",
      "28    No Intervention Required         False    True  \n",
      "29          Species of Concern          True    True  \n",
      "30          Species of Concern          True    True  \n",
      "31    No Intervention Required         False    True  \n",
      "32    No Intervention Required         False    True  \n",
      "36          Species of Concern          True    True  \n",
      "37          Species of Concern          True    True  \n",
      "38                  Threatened          True    True  \n",
      "39                  Endangered          True    True  \n",
      "40    No Intervention Required         False    True  \n",
      "3033        Species of Concern          True    True  \n",
      "3034  No Intervention Required         False    True  \n",
      "3035        Species of Concern          True    True  \n",
      "3036        Species of Concern          True    True  \n",
      "3037        Species of Concern          True    True  \n",
      "3038  No Intervention Required         False    True  \n",
      "3040  No Intervention Required         False    True  \n",
      "3042        Species of Concern          True    True  \n",
      "4461  No Intervention Required         False    True  \n",
      "4462  No Intervention Required         False    True  \n",
      "4463  No Intervention Required         False    True  \n",
      "4464        Species of Concern          True    True  \n",
      "4468  No Intervention Required         False    True  \n"
     ]
    }
   ],
   "source": [
    "print(species[species.is_bat == True].head(23))"
   ]
  },
  {
   "cell_type": "markdown",
   "id": "853f6189",
   "metadata": {},
   "source": [
    "As we can see, some species require protecting and some do not"
   ]
  },
  {
   "cell_type": "markdown",
   "id": "eeb94ed4",
   "metadata": {},
   "source": [
    "## Merging the obs table and the species table only where the bat species are true"
   ]
  },
  {
   "cell_type": "code",
   "execution_count": 85,
   "id": "752175ae",
   "metadata": {},
   "outputs": [
    {
     "name": "stdout",
     "output_type": "stream",
     "text": [
      "              scientific_name                            park_name  \\\n",
      "0       Lasiurus blossevillii                  Bryce National Park   \n",
      "1       Lasiurus blossevillii  Great Smoky Mountains National Park   \n",
      "2       Lasiurus blossevillii               Yosemite National Park   \n",
      "3       Lasiurus blossevillii            Yellowstone National Park   \n",
      "4    Corynorhinus rafinesquii               Yosemite National Park   \n",
      "..                        ...                                  ...   \n",
      "139            Myotis sodalis            Yellowstone National Park   \n",
      "140             Myotis leibii               Yosemite National Park   \n",
      "141             Myotis leibii                  Bryce National Park   \n",
      "142             Myotis leibii  Great Smoky Mountains National Park   \n",
      "143             Myotis leibii            Yellowstone National Park   \n",
      "\n",
      "     observations category                                       common_names  \\\n",
      "0             113   Mammal                                    Western Red Bat   \n",
      "1              70   Mammal                                    Western Red Bat   \n",
      "2             123   Mammal                                    Western Red Bat   \n",
      "3             221   Mammal                                    Western Red Bat   \n",
      "4             188   Mammal                         Rafinesque's Big-Eared Bat   \n",
      "..            ...      ...                                                ...   \n",
      "139            68   Mammal              Indiana Bat, Indiana Or Social Myotis   \n",
      "140           132   Mammal  Eastern Small-Footed Bat, Eastern Small-Footed...   \n",
      "141            84   Mammal  Eastern Small-Footed Bat, Eastern Small-Footed...   \n",
      "142            49   Mammal  Eastern Small-Footed Bat, Eastern Small-Footed...   \n",
      "143           233   Mammal  Eastern Small-Footed Bat, Eastern Small-Footed...   \n",
      "\n",
      "          conservation_status  is_protected  is_bat  \n",
      "0          Species of Concern          True    True  \n",
      "1          Species of Concern          True    True  \n",
      "2          Species of Concern          True    True  \n",
      "3          Species of Concern          True    True  \n",
      "4    No Intervention Required         False    True  \n",
      "..                        ...           ...     ...  \n",
      "139                Endangered          True    True  \n",
      "140        Species of Concern          True    True  \n",
      "141        Species of Concern          True    True  \n",
      "142        Species of Concern          True    True  \n",
      "143        Species of Concern          True    True  \n",
      "\n",
      "[144 rows x 8 columns]\n"
     ]
    }
   ],
   "source": [
    "bat_obs = obs.merge(species[species.is_bat])\n",
    "print(bat_obs)"
   ]
  },
  {
   "cell_type": "markdown",
   "id": "0a4a2b44",
   "metadata": {},
   "source": [
    "### Number of bat observation see at each of the parks"
   ]
  },
  {
   "cell_type": "code",
   "execution_count": 89,
   "id": "32b920e3",
   "metadata": {},
   "outputs": [
    {
     "name": "stdout",
     "output_type": "stream",
     "text": [
      "                             park_name  is_protected  observations\n",
      "0                  Bryce National Park         False          1596\n",
      "1                  Bryce National Park          True          1837\n",
      "2  Great Smoky Mountains National Park         False          1299\n",
      "3  Great Smoky Mountains National Park          True          1112\n",
      "4            Yellowstone National Park         False          4044\n",
      "5            Yellowstone National Park          True          4318\n",
      "6               Yosemite National Park         False          2345\n",
      "7               Yosemite National Park          True          2441\n"
     ]
    }
   ],
   "source": [
    "obs_by_park = bat_obs.groupby(['park_name', 'is_protected']).observations.sum().reset_index()\n",
    "print(obs_by_park)"
   ]
  },
  {
   "cell_type": "markdown",
   "id": "6c1dbfc3",
   "metadata": {},
   "source": [
    "## Plot\n",
    "This is the plot for the last summary statistics seen "
   ]
  },
  {
   "cell_type": "code",
   "execution_count": 91,
   "id": "128255e2",
   "metadata": {},
   "outputs": [
    {
     "data": {
      "image/png": "[encoded data removed]",
      "text/plain": [
       "<Figure size 1152x288 with 1 Axes>"
      ]
     },
     "metadata": {
      "needs_background": "light"
     },
     "output_type": "display_data"
    }
   ],
   "source": [
    "plt.figure(figsize=(16,4))\n",
    "sns.barplot(x = obs_by_park.park_name, y=obs_by_park.observations, hue = obs_by_park.is_protected)\n",
    "plt.xlabel(\"Park Name\")\n",
    "plt.ylabel(\"Number of Observations\")\n",
    "plt.title(\"Number of Bats Observed per Week\")\n",
    "plt.show()"
   ]
  },
  {
   "cell_type": "markdown",
   "id": "7fdfb79a",
   "metadata": {},
   "source": [
    "# Conclusion\n",
    "+ From this chart one can see that Yellowstone and Bryce National Parks seem to be doing a great job with their bat populations since there are more sightings of protected bats compared to non-protected species. The Great Smoky Mountains National Park might need to beef up there efforts in conservation as they have seen more non-protected species.4\n",
    "+ This project was also able to answer some of the questions first posed in the beginning:\n",
    "> What is the distribution of conservation status for species?\n",
    "    The vast majority of species were not part of conservation.(5,633 vs 191)\n",
    "> Are certain types of species more likely to be endangered?\n",
    "    Mammals and Birds had the highest percentage of being in protection.\n",
    "> Are the differences between species and their conservation status significant?\n",
    "    While mammals and Birds did not have significant difference in conservation percentage, mammals and reptiles exhibited a statistically significant difference.\n",
    "> Which animal is most prevalent and what is their distribution amongst parks?\n",
    "    The study found that bats occurred the most number of times and they were most likely to be found in Yellowstone National Park."
   ]
  }
 ],
 "metadata": {
  "kernelspec": {
   "display_name": "Python 3",
   "language": "python",
   "name": "python3"
  },
  "language_info": {
   "codemirror_mode": {
    "name": "ipython",
    "version": 3
   },
   "file_extension": ".py",
   "mimetype": "text/x-python",
   "name": "python",
   "nbconvert_exporter": "python",
   "pygments_lexer": "ipython3",
   "version": "3.8.8"
  }
 },
 "nbformat": 4,
 "nbformat_minor": 5
}
